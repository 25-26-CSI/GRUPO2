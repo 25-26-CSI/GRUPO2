{
  "nbformat": 4,
  "nbformat_minor": 0,
  "metadata": {
    "colab": {
      "provenance": []
    },
    "kernelspec": {
      "name": "python3",
      "display_name": "Python 3"
    },
    "language_info": {
      "name": "python"
    }
  },
  "cells": [
    {
      "cell_type": "markdown",
      "source": [
        "## UNIVERSIDAD CENTRAL DEL ECUADOR\n",
        "### Facultad de Ingeniería y Ciencias Aplicadas\n",
        "### Criptografía y Seguridad de la Información\n",
        "**Fecha de entrega:** 31-octubre-2025\n",
        "\n",
        "**Grupo 2**\n",
        "\n",
        "**Integrantes:**\n",
        "\n",
        "\n",
        "*   Andino Jhon\n",
        "*   Borja Diego\n",
        "*   Cajamarca Anthony\n",
        "*   Cruz Kevin\n",
        "*   Jami Mateo"
      ],
      "metadata": {
        "id": "zDMRVLlVGKR9"
      }
    },
    {
      "cell_type": "markdown",
      "source": [
        "# **CIFRADO POR TRANSPOSICIÓN**"
      ],
      "metadata": {
        "id": "jESiMFOG3Zwh"
      }
    },
    {
      "cell_type": "markdown",
      "source": [
        "El cifrado por transposición es una técnica criptográfica que consiste en reordenar la posición de las letras o símbolos de un mensaje original según un algoritmo o patrón determinado. No altera los caracteres en sí, sino únicamente su posición dentro del texto cifrado.\n",
        "\n",
        "La seguridad de este método depende en gran medida de la longitud del mensaje: mientras más extenso sea, mayor será el número de posibles permutaciones y, por tanto, más difícil será descifrarlo sin conocer la clave. Aunque por sí solo ofrece un nivel de seguridad limitado, el cifrado por transposición puede ser altamente efectivo cuando se combina con otros métodos criptográficos, como los de sustitución, para incrementar la confusión y la difusión del mensaje."
      ],
      "metadata": {
        "id": "D_TODeQv43gb"
      }
    },
    {
      "cell_type": "code",
      "source": [
        "!pip install pyperclip"
      ],
      "metadata": {
        "id": "gNBGx0XPwP2X",
        "colab": {
          "base_uri": "https://localhost:8080/"
        },
        "outputId": "08843b13-aae1-464b-9897-b0feb9769607"
      },
      "execution_count": 2,
      "outputs": [
        {
          "output_type": "stream",
          "name": "stdout",
          "text": [
            "Requirement already satisfied: pyperclip in /usr/local/lib/python3.12/dist-packages (1.11.0)\n"
          ]
        }
      ]
    },
    {
      "cell_type": "markdown",
      "source": [
        "# Transposición columnar simple"
      ],
      "metadata": {
        "id": "MEmKv5Sk3roC"
      }
    },
    {
      "cell_type": "markdown",
      "source": [
        "La transposición columnar simple se fundamenta en la reorganización estructurada de los caracteres de un mensaje dentro de una tabla o matriz.\n",
        "\n",
        "En este método, el texto original se escribe horizontalmente de izquierda a derecha y de arriba hacia abajo, distribuyendo las letras en una cuadrícula con un número fijo de columnas previamente acordado entre el emisor y el receptor."
      ],
      "metadata": {
        "id": "DlXqN2dn3zlU"
      }
    },
    {
      "cell_type": "code",
      "source": [
        "!pip install pyperclip"
      ],
      "metadata": {
        "colab": {
          "base_uri": "https://localhost:8080/"
        },
        "id": "FM7G6kVg-VDe",
        "outputId": "d2acff81-1aa2-45ef-d82e-63d54d8cc15c"
      },
      "execution_count": 3,
      "outputs": [
        {
          "output_type": "stream",
          "name": "stdout",
          "text": [
            "Requirement already satisfied: pyperclip in /usr/local/lib/python3.12/dist-packages (1.11.0)\n"
          ]
        }
      ]
    },
    {
      "cell_type": "markdown",
      "source": [
        "**Funcion eliminar espacios:**\n",
        "Elimina todos los espacios en blanco del mensaje original para que el cifrado trabaje solo con letras\n",
        "\n",
        "\n",
        "*   Se crea una variable mensaje_nuevo vacía, que irá almacenando las letras válidas\n",
        "*   Se recorre cada caracter del mensaje original\n",
        "*   Si el carácter no es un espacio, se agrega a mensaje_nuevo\n",
        "*   La función retorna mensaje_nuevo, que es el texto para cifrar\n",
        "\n",
        "\n",
        "\n",
        "\n"
      ],
      "metadata": {
        "id": "FIP_qlZHsz2k"
      }
    },
    {
      "cell_type": "code",
      "source": [
        "import math\n",
        "# Función para eliminar espacios del mensaje\n",
        "def eliminarEspacios(mensaje):\n",
        "    mensaje_nuevo = ''\n",
        "    for caracter in mensaje:\n",
        "        if caracter != ' ':\n",
        "            mensaje_nuevo += caracter\n",
        "    return mensaje_nuevo"
      ],
      "metadata": {
        "id": "fqDSwC67swgw"
      },
      "execution_count": 4,
      "outputs": []
    },
    {
      "cell_type": "markdown",
      "source": [
        "**Funcion de cifrado del mensaje:** Realiza el cifrado por transposición columnar simple, reorganizando las letras del mensaje en columnas según la clave y generando el criptograma\n",
        "\n",
        "\n",
        "*   Se crea una lista con clave elementos vacíos\n",
        "*   Cada elemento representará una columna de la matriz, donde se irán agregando las letras correspondientes\n",
        "*   Se recorre cada columna donde i es el indice de la columna actual\n",
        "*   pos indica la posición de la letra en el mensaje original que se coloca en esa columna\n",
        "*   Se suman clave a pos cada vez para saltar a la siguiente letra de la misma columna\n",
        "*   Se concatenan todas las columnas para formar el criptograma\n",
        "\n",
        "\n",
        "\n",
        "\n",
        "\n",
        "\n",
        "\n",
        "\n"
      ],
      "metadata": {
        "id": "RLnsUCTis1Bg"
      }
    },
    {
      "cell_type": "code",
      "source": [
        "# Función principal de cifrado\n",
        "def cifrar(mensaje, clave):\n",
        "    criptograma = [''] * clave\n",
        "    for i in range(clave):\n",
        "        pos = i\n",
        "        while pos < len(mensaje):\n",
        "            criptograma[i] += mensaje[pos]\n",
        "            pos += clave\n",
        "    return ''.join(criptograma)"
      ],
      "metadata": {
        "id": "qppQYtm5s0dT"
      },
      "execution_count": 5,
      "outputs": []
    },
    {
      "cell_type": "markdown",
      "source": [
        "Salida de los datos encriptados: Dae formato al criptograma dividiéndolo en bloques de caracteres para que sea más legible, como se hacía tradicionalmente en mensajes cifrados.\n",
        "\n",
        "\n",
        "*   Definir el tamaño del bloque\n",
        "*   Se recorre cada letra del criptograma\n",
        "*   Si la posición de la letra no es múltiplo del tamaño del bloque, se añade directamente al texto formateado\n",
        "*   Si sí es múltiplo, se añade un espacio extra después de la letra para separar bloques.\n",
        "*   Retornar el texto formateado\n",
        "\n",
        "\n",
        "\n",
        "\n",
        "\n"
      ],
      "metadata": {
        "id": "bzgpKOssszXN"
      }
    },
    {
      "cell_type": "code",
      "source": [
        "# Formatear la salida en bloques de 5 caracteres\n",
        "def salida(criptograma):\n",
        "    bloque = 5\n",
        "    texto = ''\n",
        "    for i in range(len(criptograma)):\n",
        "        if (i + 1) % bloque != 0:\n",
        "            texto += criptograma[i]\n",
        "        else:\n",
        "            texto += criptograma[i] + ' '\n",
        "    return texto"
      ],
      "metadata": {
        "id": "3hGk8qv2syzM"
      },
      "execution_count": 6,
      "outputs": []
    },
    {
      "cell_type": "markdown",
      "source": [
        "Matriz del mensaje:  Visualizar cómo se organiza el mensaje y los indices en una tabla de filas y columnas según la clave antes de cifrarlo\n",
        "\n",
        "\n",
        "*   Calcula el número de filas necesarias: filas = ceil(len(mensaje)/clave)\n",
        "*   Crea una matriz vacía con filas y clave columnas\n",
        "*   Recorre cada celda fila por fila y coloca las letras del mensaje.\n",
        "*   Imprime la matriz\n",
        "\n",
        "\n"
      ],
      "metadata": {
        "id": "lDHy-uSos7A4"
      }
    },
    {
      "cell_type": "code",
      "source": [
        "# FUNCIÓN 1: Mostrar la matriz del mensaje\n",
        "def mostrarMatriz(mensaje, clave):\n",
        "    filas = math.ceil(len(mensaje) / clave)\n",
        "    matriz = [[''] * clave for _ in range(filas)]\n",
        "    index = 0\n",
        "    for f in range(filas):\n",
        "        for c in range(clave):\n",
        "            if index < len(mensaje):\n",
        "                matriz[f][c] = mensaje[index]\n",
        "                index += 1\n",
        "\n",
        "    # --- imprimir la matriz ---\n",
        "    print(\"\\n MATRIZ DEL MENSAJE:\")\n",
        "    for fila in matriz:\n",
        "        print(' '.join(fila))\n",
        "    print()  # línea en blanco para separar\n",
        "\n",
        "# FUNCIÓN 2: Mostrar los índices (orden de lectura)\n",
        "def mostrarIndices(mensaje, clave):\n",
        "    filas = math.ceil(len(mensaje) / clave)\n",
        "    matriz = [[''] * clave for _ in range(filas)]\n",
        "    index = 0\n",
        "    for f in range(filas):\n",
        "        for c in range(clave):\n",
        "            if index < len(mensaje):\n",
        "                matriz[f][c] = str(index).zfill(2)  # índices con 2 dígitos\n",
        "                index += 1\n",
        "\n",
        "    # --- imprimir los índices ---\n",
        "    print(\" MATRIZ DE ÍNDICES:\")\n",
        "    for fila in matriz:\n",
        "        print(' '.join(fila))\n",
        "    print()"
      ],
      "metadata": {
        "id": "cV01HEeys7hV"
      },
      "execution_count": 7,
      "outputs": []
    },
    {
      "cell_type": "markdown",
      "source": [
        "Funcion de ejecucion: Orquestar todo el programa: recibir el mensaje y la clave, mostrar matrices de forma visual y generar el criptograma final\n",
        "\n",
        "\n",
        "*   Leer mensaje y clave del usuario\n",
        "*   Eliminar espacios del mensaje\n",
        "*   Muestra las matrices\n",
        "*   Generar el criptograma\n",
        "\n",
        "\n",
        "\n"
      ],
      "metadata": {
        "id": "X8UstSows_ff"
      }
    },
    {
      "cell_type": "markdown",
      "source": [
        "## Ejemplo con mensaje predefinido."
      ],
      "metadata": {
        "id": "VhNqTNyM1hBb"
      }
    },
    {
      "cell_type": "code",
      "source": [
        "# Define un mensaje y una clave predefinidos.\n",
        "mensaje_predefinido = \"Universidad Central del Ecuador\"\n",
        "clave_predefinida = 5\n",
        "\n",
        "# Elimine los espacios del mensaje predefinido\n",
        "mensaje_procesado = eliminarEspacios(mensaje_predefinido)\n",
        "\n",
        "# Mostrar la matriz y los índices\n",
        "mostrarMatriz(mensaje_procesado, clave_predefinida)\n",
        "mostrarIndices(mensaje_procesado, clave_predefinida)\n",
        "\n",
        "# Encripta el mensaje y muestra el resultado.\n",
        "criptograma_predefinido = salida(cifrar(mensaje_procesado, clave_predefinida))\n",
        "print(\"\\n Mensaje cifrado:\\n\", criptograma_predefinido.upper())"
      ],
      "metadata": {
        "colab": {
          "base_uri": "https://localhost:8080/"
        },
        "id": "0P8tssPO0KEs",
        "outputId": "7d0889e0-9b0f-4218-c12e-3c13d1080f36"
      },
      "execution_count": 14,
      "outputs": [
        {
          "output_type": "stream",
          "name": "stdout",
          "text": [
            "\n",
            " MATRIZ DEL MENSAJE:\n",
            "U n i v e\n",
            "r s i d a\n",
            "d C e n t\n",
            "r a l d e\n",
            "l E c u a\n",
            "d o r  \n",
            "\n",
            " MATRIZ DE ÍNDICES:\n",
            "00 01 02 03 04\n",
            "05 06 07 08 09\n",
            "10 11 12 13 14\n",
            "15 16 17 18 19\n",
            "20 21 22 23 24\n",
            "25 26 27  \n",
            "\n",
            "\n",
            " Mensaje cifrado:\n",
            " URDRL DNSCA EOIIE LCRVD NDUEA TEA\n"
          ]
        }
      ]
    },
    {
      "cell_type": "markdown",
      "source": [
        "## Ejemplo con ingreso de mensaje."
      ],
      "metadata": {
        "id": "LT9E8Grh1rcl"
      }
    },
    {
      "cell_type": "code",
      "source": [
        "import re\n",
        "\n",
        "# Función para ejecutar todo el programa\n",
        "def main():\n",
        "    mensaje = input(\"Introduce el mensaje: \").upper()\n",
        "    while not mensaje or re.search(r'\\d', mensaje):\n",
        "        if not mensaje:\n",
        "            print(\"El mensaje no puede estar en blanco.\")\n",
        "        elif re.search(r'\\d', mensaje):\n",
        "            print(\"El mensaje no puede contener números.\")\n",
        "        mensaje = input(\"Introduce un mensaje válido: \").upper()\n",
        "\n",
        "    while True:\n",
        "        try:\n",
        "            clave = int(input(\"Introduce la clave (número de columnas): \"))\n",
        "            if clave > 0:\n",
        "                break\n",
        "            else:\n",
        "                print(\"La clave debe ser un número positivo.\")\n",
        "        except ValueError:\n",
        "            print(\"Entrada inválida. Por favor, introduce un número entero para la clave.\")\n",
        "\n",
        "\n",
        "    mensaje = eliminarEspacios(mensaje)\n",
        "\n",
        "    # Mostrar las dos visualizaciones antes de cifrar\n",
        "    mostrarMatriz(mensaje, clave)\n",
        "    mostrarIndices(mensaje, clave)\n",
        "\n",
        "    # Proceder con el cifrado\n",
        "    criptograma = salida(cifrar(mensaje, clave))\n",
        "    print(\"\\n Mensaje cifrado:\\n\", criptograma.upper())\n",
        "\n",
        "# Ejecutar el programa\n",
        "if __name__ == '__main__':\n",
        "    main()"
      ],
      "metadata": {
        "colab": {
          "base_uri": "https://localhost:8080/"
        },
        "id": "201puFdSs_5A",
        "outputId": "06d21634-0383-46e3-a352-7942eb80c8f0"
      },
      "execution_count": 15,
      "outputs": [
        {
          "output_type": "stream",
          "name": "stdout",
          "text": [
            "Introduce el mensaje: \n",
            "El mensaje no puede estar en blanco.\n",
            "Introduce un mensaje válido: 17\n",
            "El mensaje no puede contener números.\n",
            "Introduce un mensaje válido: ingeniero geovanny es chevere xD\n",
            "Introduce la clave (número de columnas): 5\n",
            "\n",
            " MATRIZ DEL MENSAJE:\n",
            "I N G E N\n",
            "I E R O G\n",
            "E O V A N\n",
            "N Y E S C\n",
            "H E V E R\n",
            "E X D  \n",
            "\n",
            " MATRIZ DE ÍNDICES:\n",
            "00 01 02 03 04\n",
            "05 06 07 08 09\n",
            "10 11 12 13 14\n",
            "15 16 17 18 19\n",
            "20 21 22 23 24\n",
            "25 26 27  \n",
            "\n",
            "\n",
            " Mensaje cifrado:\n",
            " IIENH ENEOY EXGRV EVDEO ASENG NCR\n"
          ]
        }
      ]
    },
    {
      "cell_type": "markdown",
      "source": [
        "## Bibliografia\n",
        "\n",
        "[1] S. Singh, *The History of Cryptography*, London, UK: ‎[Publisher unknown], 2003.  \n",
        "[2] A. Yadav, *Historical Roots of Modern Cryptography: A Study of Substitution Ciphers*, 2025.  \n",
        "[3] “Substitution cipher,” Wikipedia, 2025. [Online]. Available: https://en.wikipedia.org/wiki/Substitution_cipher. [Accessed: 30-Oct-2025].  \n",
        "[4] “Historical Cryptology,” Cryptool.org, 2013. [Online]. Available: https://www.cryptool.org/download/ctb/Esslinger-017_Chap03-HistoricalCryptology.pdf. [Accessed: 30-Oct-2025].\n",
        "\n",
        "[5] Google, \"Colaboratory,\" Google. [Online]. Available: https://colab.research.google.com/. [Accessed: 30-oct-2025]."
      ],
      "metadata": {
        "id": "iRh4E0_mJpgS"
      }
    }
  ]
}