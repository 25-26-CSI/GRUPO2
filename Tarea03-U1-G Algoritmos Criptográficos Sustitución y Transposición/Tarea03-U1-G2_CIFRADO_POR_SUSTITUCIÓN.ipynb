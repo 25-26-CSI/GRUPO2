{
  "nbformat": 4,
  "nbformat_minor": 0,
  "metadata": {
    "colab": {
      "provenance": []
    },
    "kernelspec": {
      "name": "python3",
      "display_name": "Python 3"
    },
    "language_info": {
      "name": "python"
    }
  },
  "cells": [
    {
      "cell_type": "markdown",
      "source": [
        "## UNIVERSIDAD CENTRAL DEL ECUADOR\n",
        "### Facultad de Ingeniería y Ciencias Aplicadas\n",
        "### Criptografía y Seguridad de la Información\n",
        "**Fecha de entrega:** 31-octubre-2025\n",
        "\n",
        "**Grupo 2**\n",
        "\n",
        "**Integrantes:**\n",
        "\n",
        "\n",
        "*   Andino Jhon\n",
        "*   Borja Diego\n",
        "*   Cajamarca Anthony\n",
        "*   Cruz Kevin\n",
        "*   Jami Mateo"
      ],
      "metadata": {
        "id": "zDMRVLlVGKR9"
      }
    },
    {
      "cell_type": "markdown",
      "source": [
        "# **CIFRADO POR SUSTITUCIÓN**\n",
        "\n",
        "**¿Qué es la sustitución?**\n",
        "\n",
        "La sustitución es una familia de métodos criptográficos en los que cada unidad de texto claro (símbolo, letra, grupo de letras, bit, etc.) se reemplaza por otra unidad según una **regla determinística** dependiente de una clave.\n",
        "\n",
        "*Unidad mínima:* puede ser un símbolo (ej. letra en alfabetos), un grupo de símbolos (digramas, tetragramas) o incluso bits/bytes en cifrados modernos.\n",
        "\n",
        "*Regla:* puede ser una tabla fija (monoalfabética), una secuencia de tablas que cambia con la posición (polialfabética), o un mapeo probabilístico (homofónica).\n",
        "\n",
        "La idea fundamental es **transformar la representación de la información sin cambiar su longitud.**"
      ],
      "metadata": {
        "id": "yA11yrAOxE4n"
      }
    },
    {
      "cell_type": "markdown",
      "source": [
        "# Clasificación de métodos de sustitución\n",
        "\n",
        "**Monoalfabética**\n",
        "\n",
        "Un único alfabeto de reemplazo para todo el mensaje.\n",
        "\n",
        "Ejemplo: cifrado César, cifrado por sustitución simple (clave: permutación de A–Z).\n",
        "\n",
        "Propiedad: la frecuencia de letras se conserva (aunque permutada), por eso es vulnerable a análisis de frecuencia.\n",
        "\n",
        "**Polialfabética**\n",
        "\n",
        "Se usan varias sustituciones (alfabetos) alternando según posición o clave (p. ej. Vigenère).\n",
        "\n",
        "Busca romper la correspondencia 1:1 entre frecuencia en claro y frecuencia en cifrado.\n",
        "\n",
        "Mejora resistencia frente a análisis de frecuencia; todavía tiene vulnerabilidades si la clave se repite.\n",
        "\n",
        "**Homofónica**\n",
        "\n",
        "Un símbolo claro puede mapearse a varios símbolos cifrados posibles (múltiples imágenes) para igualar frecuencias.\n",
        "\n",
        "Objetivo: nivelar las frecuencias del texto cifrado para ocultar la huella estadística.\n",
        "\n",
        "Implementación práctica difícil: necesita buena clave y mapeos ponderados.\n",
        "\n",
        "**Poligráfica** (sustitución por bloques)\n",
        "\n",
        "Sustitución aplicada a bloques de tamaño >1 (digramas, tetragramas). Ej.: Playfair (pares de letras).\n",
        "\n",
        "Puede ocultar dependencias internas (pares) que un enfoque monoalfabético deja visibles.\n",
        "\n",
        "Aumenta complejidad contra ataques de frecuencia simples, pero también aumenta la complejidad de la clave."
      ],
      "metadata": {
        "id": "8JXrgSYxDUNF"
      }
    },
    {
      "cell_type": "markdown",
      "source": [
        "## Ejemplo: Cifrado César (sustitución monoalfabética)\n",
        "\n",
        "El Cifrado César es la forma más simple de sustitución:\n",
        "cada letra del mensaje se sustituye por otra desplazada un número fijo de posiciones en el alfabeto.\n",
        "\n",
        "\n",
        "Por ejemplo, con un desplazamiento de 3\n",
        "\n",
        "A → D,  B → E,  C → F,  ...,  X → A,  Y → B,  Z → C"
      ],
      "metadata": {
        "id": "hljpNI1xEVTN"
      }
    },
    {
      "cell_type": "code",
      "source": [
        "# Alfabeto base (solo letras mayúsculas)\n",
        "alphabet = \"ABCDEFGHIJKLMNÑOPQRSTUVWXYZ\""
      ],
      "metadata": {
        "id": "kLJMSuVyEVLa"
      },
      "execution_count": 1,
      "outputs": []
    },
    {
      "cell_type": "code",
      "source": [
        "# --- Función para cifrar ---\n",
        "def encrypt_cesar(plaintext, shift):\n",
        "    ciphertext = \"\"\n",
        "    for char in plaintext.upper():\n",
        "        if char in alphabet:\n",
        "            # Encontrar la posición de la letra\n",
        "            index = alphabet.index(char)\n",
        "            # Aplicar el desplazamiento (módulo 27)\n",
        "            new_index = (index + shift) % 27\n",
        "            # Añadir la letra cifrada\n",
        "            ciphertext += alphabet[new_index]\n",
        "        else:\n",
        "            # Si no es letra, se deja igual (espacios, signos, etc.)\n",
        "            ciphertext += char\n",
        "    return ciphertext\n"
      ],
      "metadata": {
        "id": "rbeVvxJxDSku"
      },
      "execution_count": 2,
      "outputs": []
    },
    {
      "cell_type": "markdown",
      "metadata": {
        "id": "c8d6bec7"
      },
      "source": [
        "La función `encrypt_cesar(plaintext, shift)` **cifra** un mensaje utilizando el Cifrado César. Toma el `plaintext` (el mensaje original) y un `shift` (el número de posiciones que cada letra se desplazará en el alfabeto). Para cada letra en el mensaje original, la función la reemplaza por la letra que se encuentra `shift` posiciones más adelante en el alfabeto (volviendo al principio si llega al final). Los caracteres que no son letras se mantienen sin cambios. El resultado es el mensaje cifrado (`ciphertext`)."
      ]
    },
    {
      "cell_type": "code",
      "source": [
        "# --- Función para descifrar ---\n",
        "def decrypt_cesar(ciphertext, shift):\n",
        "    plaintext = \"\"\n",
        "    for char in ciphertext.upper():\n",
        "        if char in alphabet:\n",
        "            index = alphabet.index(char)\n",
        "            new_index = (index - shift) % 27\n",
        "            plaintext += alphabet[new_index]\n",
        "        else:\n",
        "            plaintext += char\n",
        "    return plaintext"
      ],
      "metadata": {
        "id": "2CP5yem7E2ie"
      },
      "execution_count": 3,
      "outputs": []
    },
    {
      "cell_type": "markdown",
      "metadata": {
        "id": "b6ec020e"
      },
      "source": [
        "La función `decrypt_cesar(ciphertext, shift)` **descifra** un mensaje que ha sido cifrado con el Cifrado César. Toma el `ciphertext` (el mensaje cifrado) y el `shift` (el mismo desplazamiento que se usó para cifrar) y, para cada letra en el mensaje cifrado, la desplaza hacia atrás en el alfabeto el número de posiciones indicado por `shift`. Las letras que no están en el alfabeto (como espacios o símbolos) se dejan como están. El resultado es el mensaje original (`plaintext`)."
      ]
    },
    {
      "cell_type": "markdown",
      "source": [
        "## Ejemplo con mensaje predefinido."
      ],
      "metadata": {
        "id": "e9VzWabt4AuV"
      }
    },
    {
      "cell_type": "code",
      "source": [
        "# Ejecucion\n",
        "message = \"Universidad Central del Ecuador\"\n",
        "key = 4\n",
        "\n",
        "print(\"Mensaje original: \", message)\n",
        "encrypted = encrypt_cesar(message, key)\n",
        "print(\"Texto cifrado:    \", encrypted)\n",
        "decrypted = decrypt_cesar(encrypted, key)\n",
        "print(\"Texto descifrado: \", decrypted)"
      ],
      "metadata": {
        "colab": {
          "base_uri": "https://localhost:8080/"
        },
        "id": "NZeFBFSpFDp_",
        "outputId": "822e0cd1-59e0-47c0-d7cf-6b32a4044d18"
      },
      "execution_count": 5,
      "outputs": [
        {
          "output_type": "stream",
          "name": "stdout",
          "text": [
            "Mensaje original:  Universidad Central del Ecuador\n",
            "Texto cifrado:     YQMZIVWMHEH GIQXVEO HIO IGYEHSV\n",
            "Texto descifrado:  UNIVERSIDAD CENTRAL DEL ECUADOR\n"
          ]
        }
      ]
    },
    {
      "cell_type": "markdown",
      "source": [
        "## Ejemplo con ingreso de mensaje."
      ],
      "metadata": {
        "id": "wudwT6eD4D9W"
      }
    },
    {
      "cell_type": "code",
      "source": [
        "import re\n",
        "\n",
        "# Obtener la entrada del usuario con validación\n",
        "message_to_process = input(\"Introduce el mensaje: \")\n",
        "while not message_to_process or re.search(r'\\d', message_to_process):\n",
        "    if not message_to_process:\n",
        "        print(\"El mensaje no puede estar vacío.\")\n",
        "    elif re.search(r'\\d', message_to_process):\n",
        "        print(\"El mensaje no puede contener números o simbolos.\")\n",
        "    message_to_process = input(\"Introduce un mensaje válido: \")\n",
        "\n",
        "# Obtener la clave del usuario\n",
        "while True:\n",
        "    try:\n",
        "        cesar_key = int(input(\"Introduce la clave (un número entero): \"))\n",
        "        break\n",
        "    except ValueError:\n",
        "        print(\"Entrada inválida. Por favor, introduce un número entero para la clave.\")\n",
        "\n",
        "\n",
        "# Cifrar el mensaje\n",
        "encrypted_message = encrypt_cesar(message_to_process, cesar_key)\n",
        "print(\"\\nMensaje original:\", message_to_process)\n",
        "print(\"Mensaje cifrado:\", encrypted_message)\n",
        "\n",
        "# Descifrar el mensaje\n",
        "decrypted_message = decrypt_cesar(encrypted_message, cesar_key)\n",
        "print(\"Mensaje descifrado:\", decrypted_message)"
      ],
      "metadata": {
        "colab": {
          "base_uri": "https://localhost:8080/"
        },
        "id": "OVTBKEwFTmnd",
        "outputId": "252484b5-4aef-4a6f-bcbc-033b7363007c"
      },
      "execution_count": 6,
      "outputs": [
        {
          "output_type": "stream",
          "name": "stdout",
          "text": [
            "Introduce el mensaje: \n",
            "El mensaje no puede estar vacío.\n",
            "Introduce un mensaje válido: 798\n",
            "El mensaje no puede contener números o simbolos.\n",
            "Introduce un mensaje válido: ingeniero geovanny es chevere xD\n",
            "Introduce la clave (un número entero): 5\n",
            "\n",
            "Mensaje original: ingeniero geovanny es chevere xD\n",
            "Mensaje cifrado: NRLJRNJWT LJTAFRRD JX HMJAJWJ CI\n",
            "Mensaje descifrado: INGENIERO GEOVANNY ES CHEVERE XD\n"
          ]
        }
      ]
    },
    {
      "cell_type": "markdown",
      "source": [
        "## Bibliografia\n",
        "\n",
        "[1] S. Singh, *The History of Cryptography*, London, UK: ‎[Publisher unknown], 2003.  \n",
        "[2] A. Yadav, *Historical Roots of Modern Cryptography: A Study of Substitution Ciphers*, 2025.  \n",
        "[3] “Substitution cipher,” Wikipedia, 2025. [Online]. Available: https://en.wikipedia.org/wiki/Substitution_cipher. [Accessed: 30-Oct-2025].  \n",
        "[4] “Historical Cryptology,” Cryptool.org, 2013. [Online]. Available: https://www.cryptool.org/download/ctb/Esslinger-017_Chap03-HistoricalCryptology.pdf. [Accessed: 30-Oct-2025].\n",
        "\n",
        "[5] Google, \"Colaboratory,\" Google. [Online]. Available: https://colab.research.google.com/. [Accessed: 30-oct-2025]."
      ],
      "metadata": {
        "id": "iRh4E0_mJpgS"
      }
    }
  ]
}